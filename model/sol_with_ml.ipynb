{
 "cells": [
  {
   "cell_type": "markdown",
   "metadata": {},
   "source": [
    "# Domain Driver Data Mining Project"
   ]
  },
  {
   "cell_type": "code",
   "execution_count": 27,
   "metadata": {
    "ExecuteTime": {
     "end_time": "2024-12-13T03:01:50.910716Z",
     "start_time": "2024-12-13T03:01:49.572275Z"
    }
   },
   "outputs": [],
   "source": [
    "import numpy as np\n",
    "import pandas as pd\n",
    "import re\n",
    "import os\n",
    "import pickle\n",
    "from collections import Counter\n",
    "import seaborn as sns\n",
    "import matplotlib.pyplot as plt\n",
    "\n",
    "from sklearn.preprocessing import MultiLabelBinarizer\n",
    "from skmultilearn.problem_transform import LabelPowerset\n",
    "from sklearn.pipeline import Pipeline\n",
    "\n",
    "from sklearn.model_selection import train_test_split, KFold\n",
    "from sklearn.feature_extraction.text import CountVectorizer\n",
    "from sklearn.feature_extraction.text import TfidfVectorizer\n",
    "from sklearn.multiclass import OneVsRestClassifier\n",
    "from sklearn.linear_model import SGDClassifier\n",
    "from sklearn.linear_model import LogisticRegression\n",
    "from sklearn.cluster import KMeans\n",
    "from sklearn.pipeline import Pipeline\n",
    "from sklearn import metrics\n",
    "from sklearn.metrics import f1_score,precision_score,recall_score, silhouette_score\n",
    "\n",
    "from sklearn.feature_extraction.text import TfidfVectorizer\n",
    "from sklearn.linear_model import SGDClassifier\n",
    "from xgboost import XGBClassifier\n",
    "\n",
    "import warnings\n",
    "\n",
    "from xgboost import XGBClassifier\n",
    "\n",
    "warnings.filterwarnings(\"ignore\")"
   ]
  },
  {
   "cell_type": "code",
   "execution_count": 2,
   "metadata": {
    "ExecuteTime": {
     "end_time": "2024-12-12T23:35:51.706004Z",
     "start_time": "2024-12-12T23:35:51.695010Z"
    }
   },
   "outputs": [],
   "source": [
    "\n",
    "train_preprocessed_file_path =\"../dataset/train_data_preprocessed_1130pm_12_12.csv\"\n",
    "test_preprocessed_file_path =\"../dataset/test_data_preprocessed_11pm_12_12.csv\"\n",
    "articles_testing_file_path = \"../dataset/articles_testing.tsv\"\n",
    "\n"
   ]
  },
  {
   "cell_type": "code",
   "execution_count": 3,
   "metadata": {
    "ExecuteTime": {
     "end_time": "2024-12-12T23:36:12.758840Z",
     "start_time": "2024-12-12T23:35:52.545523Z"
    }
   },
   "outputs": [
    {
     "name": "stdout",
     "output_type": "stream",
     "text": [
      "(97846, 5)\n",
      "          tag_count\n",
      "count  97846.000000\n",
      "mean      19.969033\n",
      "std        0.507697\n",
      "min        4.000000\n",
      "25%       20.000000\n",
      "50%       20.000000\n",
      "75%       20.000000\n",
      "max       23.000000\n"
     ]
    },
    {
     "data": {
      "text/html": [
       "<div>\n",
       "<style scoped>\n",
       "    .dataframe tbody tr th:only-of-type {\n",
       "        vertical-align: middle;\n",
       "    }\n",
       "\n",
       "    .dataframe tbody tr th {\n",
       "        vertical-align: top;\n",
       "    }\n",
       "\n",
       "    .dataframe thead th {\n",
       "        text-align: right;\n",
       "    }\n",
       "</style>\n",
       "<table border=\"1\" class=\"dataframe\">\n",
       "  <thead>\n",
       "    <tr style=\"text-align: right;\">\n",
       "      <th></th>\n",
       "      <th>content</th>\n",
       "      <th>tags</th>\n",
       "      <th>preprocessed_content</th>\n",
       "      <th>preprocessed_tags</th>\n",
       "      <th>tag_count</th>\n",
       "    </tr>\n",
       "  </thead>\n",
       "  <tbody>\n",
       "    <tr>\n",
       "      <th>0</th>\n",
       "      <td>Bước vào trận đấu, Barcelona nhanh chóng tràn ...</td>\n",
       "      <td>La Liga,Sevilla,Olimpic Lluis Companys,đè bẹp,...</td>\n",
       "      <td>trận đấu barcelona nhanh_chóng tràn tấn_công v...</td>\n",
       "      <td>la_liga,sevilla,olimpic_lluis_companys,đè_bẹp,...</td>\n",
       "      <td>20</td>\n",
       "    </tr>\n",
       "    <tr>\n",
       "      <th>1</th>\n",
       "      <td>Willian đi vào lịch sử bóng đá xứ samba. Với 1...</td>\n",
       "      <td>Estevao Willian,Neymar,giải VĐQG Brazil,Serie ...</td>\n",
       "      <td>willian đi lịch_sử bóng_đá xứ samba 1 bàn thắn...</td>\n",
       "      <td>estevao_willian,neymar,giải_vđqg_brazil,serie_...</td>\n",
       "      <td>20</td>\n",
       "    </tr>\n",
       "    <tr>\n",
       "      <th>2</th>\n",
       "      <td>Giải vô địch ná cao su thế giới năm 2024 đã di...</td>\n",
       "      <td>ná cao su,giải vô địch,giải Ba,Thượng Hải,đồng...</td>\n",
       "      <td>giải vô_địch ná cao_su thế_giới năm 2024 diễn ...</td>\n",
       "      <td>ná_cao_su,giải_vô_địch,giải_ba,thượng_hải,đồng...</td>\n",
       "      <td>19</td>\n",
       "    </tr>\n",
       "    <tr>\n",
       "      <th>3</th>\n",
       "      <td>Mục tiêu lớn Phó Thủ tướng Chính phủ Lê Thành ...</td>\n",
       "      <td>đăng cai,Đại hội Thể thao châu Á,ASIAD,thể dục...</td>\n",
       "      <td>mục_tiêu phó thủ_tướng chính_phủ lê_thành_long...</td>\n",
       "      <td>đăng_cai,đại_hội_thể_thao_châu_á,asiad,thể_dục...</td>\n",
       "      <td>20</td>\n",
       "    </tr>\n",
       "    <tr>\n",
       "      <th>4</th>\n",
       "      <td>Ngày 20-10, Giải bơi và lặn vô địch quốc gia n...</td>\n",
       "      <td>toàn đoàn,lặn,Vũ Đặng Nhật Nam,Nguyễn Lê Truyề...</td>\n",
       "      <td>20 10 giải bơi lặn vô_địch quốc_gia năm 2024 k...</td>\n",
       "      <td>toàn_đoàn,lặn,vũ_đặng_nhật_nam,nguyễn_lê_truyề...</td>\n",
       "      <td>20</td>\n",
       "    </tr>\n",
       "  </tbody>\n",
       "</table>\n",
       "</div>"
      ],
      "text/plain": [
       "                                             content  \\\n",
       "0  Bước vào trận đấu, Barcelona nhanh chóng tràn ...   \n",
       "1  Willian đi vào lịch sử bóng đá xứ samba. Với 1...   \n",
       "2  Giải vô địch ná cao su thế giới năm 2024 đã di...   \n",
       "3  Mục tiêu lớn Phó Thủ tướng Chính phủ Lê Thành ...   \n",
       "4  Ngày 20-10, Giải bơi và lặn vô địch quốc gia n...   \n",
       "\n",
       "                                                tags  \\\n",
       "0  La Liga,Sevilla,Olimpic Lluis Companys,đè bẹp,...   \n",
       "1  Estevao Willian,Neymar,giải VĐQG Brazil,Serie ...   \n",
       "2  ná cao su,giải vô địch,giải Ba,Thượng Hải,đồng...   \n",
       "3  đăng cai,Đại hội Thể thao châu Á,ASIAD,thể dục...   \n",
       "4  toàn đoàn,lặn,Vũ Đặng Nhật Nam,Nguyễn Lê Truyề...   \n",
       "\n",
       "                                preprocessed_content  \\\n",
       "0  trận đấu barcelona nhanh_chóng tràn tấn_công v...   \n",
       "1  willian đi lịch_sử bóng_đá xứ samba 1 bàn thắn...   \n",
       "2  giải vô_địch ná cao_su thế_giới năm 2024 diễn ...   \n",
       "3  mục_tiêu phó thủ_tướng chính_phủ lê_thành_long...   \n",
       "4  20 10 giải bơi lặn vô_địch quốc_gia năm 2024 k...   \n",
       "\n",
       "                                   preprocessed_tags  tag_count  \n",
       "0  la_liga,sevilla,olimpic_lluis_companys,đè_bẹp,...         20  \n",
       "1  estevao_willian,neymar,giải_vđqg_brazil,serie_...         20  \n",
       "2  ná_cao_su,giải_vô_địch,giải_ba,thượng_hải,đồng...         19  \n",
       "3  đăng_cai,đại_hội_thể_thao_châu_á,asiad,thể_dục...         20  \n",
       "4  toàn_đoàn,lặn,vũ_đặng_nhật_nam,nguyễn_lê_truyề...         20  "
      ]
     },
     "execution_count": 3,
     "metadata": {},
     "output_type": "execute_result"
    }
   ],
   "source": [
    "df_preprocessed_data = pd.read_csv(train_preprocessed_file_path)\n",
    "print(df_preprocessed_data.shape)\n",
    "print(df_preprocessed_data.describe())\n",
    "df_preprocessed_data.head()"
   ]
  },
  {
   "cell_type": "code",
   "execution_count": 5,
   "metadata": {
    "ExecuteTime": {
     "end_time": "2024-12-12T23:36:21.374393Z",
     "start_time": "2024-12-12T23:36:21.336416Z"
    }
   },
   "outputs": [
    {
     "name": "stdout",
     "output_type": "stream",
     "text": [
      "(97846, 2)\n"
     ]
    },
    {
     "data": {
      "text/html": [
       "<div>\n",
       "<style scoped>\n",
       "    .dataframe tbody tr th:only-of-type {\n",
       "        vertical-align: middle;\n",
       "    }\n",
       "\n",
       "    .dataframe tbody tr th {\n",
       "        vertical-align: top;\n",
       "    }\n",
       "\n",
       "    .dataframe thead th {\n",
       "        text-align: right;\n",
       "    }\n",
       "</style>\n",
       "<table border=\"1\" class=\"dataframe\">\n",
       "  <thead>\n",
       "    <tr style=\"text-align: right;\">\n",
       "      <th></th>\n",
       "      <th>preprocessed_content</th>\n",
       "      <th>preprocessed_tags</th>\n",
       "    </tr>\n",
       "  </thead>\n",
       "  <tbody>\n",
       "    <tr>\n",
       "      <th>0</th>\n",
       "      <td>trận đấu barcelona nhanh_chóng tràn tấn_công v...</td>\n",
       "      <td>la_liga,sevilla,olimpic_lluis_companys,đè_bẹp,...</td>\n",
       "    </tr>\n",
       "    <tr>\n",
       "      <th>1</th>\n",
       "      <td>willian đi lịch_sử bóng_đá xứ samba 1 bàn thắn...</td>\n",
       "      <td>estevao_willian,neymar,giải_vđqg_brazil,serie_...</td>\n",
       "    </tr>\n",
       "    <tr>\n",
       "      <th>2</th>\n",
       "      <td>giải vô_địch ná cao_su thế_giới năm 2024 diễn ...</td>\n",
       "      <td>ná_cao_su,giải_vô_địch,giải_ba,thượng_hải,đồng...</td>\n",
       "    </tr>\n",
       "    <tr>\n",
       "      <th>3</th>\n",
       "      <td>mục_tiêu phó thủ_tướng chính_phủ lê_thành_long...</td>\n",
       "      <td>đăng_cai,đại_hội_thể_thao_châu_á,asiad,thể_dục...</td>\n",
       "    </tr>\n",
       "    <tr>\n",
       "      <th>4</th>\n",
       "      <td>20 10 giải bơi lặn vô_địch quốc_gia năm 2024 k...</td>\n",
       "      <td>toàn_đoàn,lặn,vũ_đặng_nhật_nam,nguyễn_lê_truyề...</td>\n",
       "    </tr>\n",
       "  </tbody>\n",
       "</table>\n",
       "</div>"
      ],
      "text/plain": [
       "                                preprocessed_content  \\\n",
       "0  trận đấu barcelona nhanh_chóng tràn tấn_công v...   \n",
       "1  willian đi lịch_sử bóng_đá xứ samba 1 bàn thắn...   \n",
       "2  giải vô_địch ná cao_su thế_giới năm 2024 diễn ...   \n",
       "3  mục_tiêu phó thủ_tướng chính_phủ lê_thành_long...   \n",
       "4  20 10 giải bơi lặn vô_địch quốc_gia năm 2024 k...   \n",
       "\n",
       "                                   preprocessed_tags  \n",
       "0  la_liga,sevilla,olimpic_lluis_companys,đè_bẹp,...  \n",
       "1  estevao_willian,neymar,giải_vđqg_brazil,serie_...  \n",
       "2  ná_cao_su,giải_vô_địch,giải_ba,thượng_hải,đồng...  \n",
       "3  đăng_cai,đại_hội_thể_thao_châu_á,asiad,thể_dục...  \n",
       "4  toàn_đoàn,lặn,vũ_đặng_nhật_nam,nguyễn_lê_truyề...  "
      ]
     },
     "execution_count": 5,
     "metadata": {},
     "output_type": "execute_result"
    }
   ],
   "source": [
    "df_train = df_preprocessed_data[['preprocessed_content', 'preprocessed_tags']]\n",
    "print(df_train.shape)\n",
    "df_train.head()"
   ]
  },
  {
   "cell_type": "code",
   "execution_count": 6,
   "metadata": {
    "ExecuteTime": {
     "end_time": "2024-12-12T23:36:25.193948Z",
     "start_time": "2024-12-12T23:36:23.765765Z"
    }
   },
   "outputs": [],
   "source": [
    "df_train['preprocessed_tags'] = df_train['preprocessed_tags'].str.split(',')"
   ]
  },
  {
   "cell_type": "code",
   "execution_count": 7,
   "metadata": {
    "ExecuteTime": {
     "end_time": "2024-12-12T23:36:27.218527Z",
     "start_time": "2024-12-12T23:36:26.138406Z"
    }
   },
   "outputs": [],
   "source": [
    "all_tags = [tag for tags in df_train['preprocessed_tags'] for tag in tags]\n",
    "common_tags = [tag for tag, count in Counter(all_tags).most_common(6704)]"
   ]
  },
  {
   "cell_type": "code",
   "execution_count": 8,
   "metadata": {
    "ExecuteTime": {
     "end_time": "2024-12-12T23:39:08.337159Z",
     "start_time": "2024-12-12T23:36:28.536072Z"
    }
   },
   "outputs": [],
   "source": [
    "df_train['filtered_tags'] = df_train['preprocessed_tags'].apply(lambda tags: [tag for tag in tags if tag in common_tags])"
   ]
  },
  {
   "cell_type": "code",
   "execution_count": 9,
   "metadata": {
    "ExecuteTime": {
     "end_time": "2024-12-12T23:39:11.700221Z",
     "start_time": "2024-12-12T23:39:11.516326Z"
    }
   },
   "outputs": [],
   "source": [
    "df_train['filtered_tags'] = df_train['filtered_tags'].map(lambda x : ' '.join(x))"
   ]
  },
  {
   "cell_type": "code",
   "execution_count": 10,
   "metadata": {
    "ExecuteTime": {
     "end_time": "2024-12-12T23:39:13.961859Z",
     "start_time": "2024-12-12T23:39:13.942870Z"
    }
   },
   "outputs": [
    {
     "data": {
      "text/html": [
       "<div>\n",
       "<style scoped>\n",
       "    .dataframe tbody tr th:only-of-type {\n",
       "        vertical-align: middle;\n",
       "    }\n",
       "\n",
       "    .dataframe tbody tr th {\n",
       "        vertical-align: top;\n",
       "    }\n",
       "\n",
       "    .dataframe thead th {\n",
       "        text-align: right;\n",
       "    }\n",
       "</style>\n",
       "<table border=\"1\" class=\"dataframe\">\n",
       "  <thead>\n",
       "    <tr style=\"text-align: right;\">\n",
       "      <th></th>\n",
       "      <th>preprocessed_content</th>\n",
       "      <th>preprocessed_tags</th>\n",
       "      <th>filtered_tags</th>\n",
       "    </tr>\n",
       "  </thead>\n",
       "  <tbody>\n",
       "    <tr>\n",
       "      <th>0</th>\n",
       "      <td>trận đấu barcelona nhanh_chóng tràn tấn_công v...</td>\n",
       "      <td>[la_liga, sevilla, olimpic_lluis_companys, đè_...</td>\n",
       "      <td>la_liga lewandowski barcelona raphinha hansi_f...</td>\n",
       "    </tr>\n",
       "    <tr>\n",
       "      <th>1</th>\n",
       "      <td>willian đi lịch_sử bóng_đá xứ samba 1 bàn thắn...</td>\n",
       "      <td>[estevao_willian, neymar, giải_vđqg_brazil, se...</td>\n",
       "      <td>neymar phá_kỷ_lục kiến_tạo gây_sốt tài_năng_trẻ</td>\n",
       "    </tr>\n",
       "    <tr>\n",
       "      <th>2</th>\n",
       "      <td>giải vô_địch ná cao_su thế_giới năm 2024 diễn ...</td>\n",
       "      <td>[ná_cao_su, giải_vô_địch, giải_ba, thượng_hải,...</td>\n",
       "      <td>giải_vô_địch giải_ba thượng_hải đồng_đội vận_đ...</td>\n",
       "    </tr>\n",
       "    <tr>\n",
       "      <th>3</th>\n",
       "      <td>mục_tiêu phó thủ_tướng chính_phủ lê_thành_long...</td>\n",
       "      <td>[đăng_cai, đại_hội_thể_thao_châu_á, asiad, thể...</td>\n",
       "      <td>đăng_cai thể_dục phấn_đấu chiến_lược_phát_triể...</td>\n",
       "    </tr>\n",
       "    <tr>\n",
       "      <th>4</th>\n",
       "      <td>20 10 giải bơi lặn vô_địch quốc_gia năm 2024 k...</td>\n",
       "      <td>[toàn_đoàn, lặn, vũ_đặng_nhật_nam, nguyễn_lê_t...</td>\n",
       "      <td>toàn_đoàn đồng_nai huy_chương_bạc huy_chương_v...</td>\n",
       "    </tr>\n",
       "  </tbody>\n",
       "</table>\n",
       "</div>"
      ],
      "text/plain": [
       "                                preprocessed_content  \\\n",
       "0  trận đấu barcelona nhanh_chóng tràn tấn_công v...   \n",
       "1  willian đi lịch_sử bóng_đá xứ samba 1 bàn thắn...   \n",
       "2  giải vô_địch ná cao_su thế_giới năm 2024 diễn ...   \n",
       "3  mục_tiêu phó thủ_tướng chính_phủ lê_thành_long...   \n",
       "4  20 10 giải bơi lặn vô_địch quốc_gia năm 2024 k...   \n",
       "\n",
       "                                   preprocessed_tags  \\\n",
       "0  [la_liga, sevilla, olimpic_lluis_companys, đè_...   \n",
       "1  [estevao_willian, neymar, giải_vđqg_brazil, se...   \n",
       "2  [ná_cao_su, giải_vô_địch, giải_ba, thượng_hải,...   \n",
       "3  [đăng_cai, đại_hội_thể_thao_châu_á, asiad, thể...   \n",
       "4  [toàn_đoàn, lặn, vũ_đặng_nhật_nam, nguyễn_lê_t...   \n",
       "\n",
       "                                       filtered_tags  \n",
       "0  la_liga lewandowski barcelona raphinha hansi_f...  \n",
       "1    neymar phá_kỷ_lục kiến_tạo gây_sốt tài_năng_trẻ  \n",
       "2  giải_vô_địch giải_ba thượng_hải đồng_đội vận_đ...  \n",
       "3  đăng_cai thể_dục phấn_đấu chiến_lược_phát_triể...  \n",
       "4  toàn_đoàn đồng_nai huy_chương_bạc huy_chương_v...  "
      ]
     },
     "execution_count": 10,
     "metadata": {},
     "output_type": "execute_result"
    }
   ],
   "source": [
    "df_train.head()"
   ]
  },
  {
   "cell_type": "code",
   "execution_count": 11,
   "metadata": {
    "ExecuteTime": {
     "end_time": "2024-12-12T23:39:17.736528Z",
     "start_time": "2024-12-12T23:39:17.479661Z"
    }
   },
   "outputs": [],
   "source": [
    "tags = df_train['filtered_tags'].values\n",
    "tags = [[l for l in clean.split()] for clean in tags]"
   ]
  },
  {
   "cell_type": "code",
   "execution_count": 12,
   "metadata": {
    "ExecuteTime": {
     "end_time": "2024-12-12T23:39:21.938931Z",
     "start_time": "2024-12-12T23:39:20.991853Z"
    }
   },
   "outputs": [
    {
     "data": {
      "text/plain": [
       "<97846x6704 sparse matrix of type '<class 'numpy.int64'>'\n",
       "\twith 1034101 stored elements in Compressed Sparse Row format>"
      ]
     },
     "execution_count": 12,
     "metadata": {},
     "output_type": "execute_result"
    }
   ],
   "source": [
    "# one hot encoding label\n",
    "multilabel_binarizer = MultiLabelBinarizer(sparse_output=True)\n",
    "multilabel_binarizer.fit(tags)\n",
    "y = multilabel_binarizer.transform(tags)\n",
    "y\n"
   ]
  },
  {
   "cell_type": "code",
   "execution_count": 13,
   "metadata": {
    "ExecuteTime": {
     "end_time": "2024-12-12T23:39:24.147590Z",
     "start_time": "2024-12-12T23:39:24.140593Z"
    }
   },
   "outputs": [
    {
     "data": {
      "text/plain": [
       "array([\"'em\", '24k', '2g', ..., 'ứng_trực', 'ứng_tuyển', 'ứng_viên'],\n",
       "      dtype=object)"
      ]
     },
     "execution_count": 13,
     "metadata": {},
     "output_type": "execute_result"
    }
   ],
   "source": [
    "# show all of label unique\n",
    "tags_list = multilabel_binarizer.classes_\n",
    "tags_list"
   ]
  },
  {
   "cell_type": "code",
   "execution_count": 14,
   "metadata": {
    "ExecuteTime": {
     "end_time": "2024-12-12T23:39:25.521575Z",
     "start_time": "2024-12-12T23:39:25.503588Z"
    }
   },
   "outputs": [
    {
     "data": {
      "text/plain": [
       "0        trận đấu barcelona nhanh_chóng tràn tấn_công v...\n",
       "1        willian đi lịch_sử bóng_đá xứ samba 1 bàn thắn...\n",
       "2        giải vô_địch ná cao_su thế_giới năm 2024 diễn ...\n",
       "3        mục_tiêu phó thủ_tướng chính_phủ lê_thành_long...\n",
       "4        20 10 giải bơi lặn vô_địch quốc_gia năm 2024 k...\n",
       "                               ...                        \n",
       "97841    động_lực phát_triển bền_vững kinh_tế nhiệm_vụ ...\n",
       "97842    số_liệu tổng_cục hải_quan 9 đầu năm 2024 xuất_...\n",
       "97843    mong chiến_lược ứng_phó hiệu_quả thiên_tai kỳ ...\n",
       "97844    nhà_chức_trách xác_định hoàng_văn_thảo hành_vi...\n",
       "97845    6 đầu năm 2024 sở y_tế thành_phố đà_nẵng triển...\n",
       "Name: preprocessed_content, Length: 97846, dtype: object"
      ]
     },
     "execution_count": 14,
     "metadata": {},
     "output_type": "execute_result"
    }
   ],
   "source": [
    "X = df_train['preprocessed_content']\n",
    "X"
   ]
  },
  {
   "cell_type": "code",
   "execution_count": 15,
   "metadata": {
    "ExecuteTime": {
     "end_time": "2024-12-12T23:39:32.501706Z",
     "start_time": "2024-12-12T23:39:28.601016Z"
    }
   },
   "outputs": [
    {
     "data": {
      "text/plain": [
       "(pandas.core.series.Series,\n",
       " pandas.core.series.Series,\n",
       " scipy.sparse._csr.csr_matrix,\n",
       " scipy.sparse._csr.csr_matrix)"
      ]
     },
     "execution_count": 15,
     "metadata": {},
     "output_type": "execute_result"
    }
   ],
   "source": [
    "X_train, X_test, y_train, y_test = train_test_split(X, y, test_size=0.1, random_state=23)\n",
    "type(X_train), type(X_test), type(y_train), type(y_test)"
   ]
  },
  {
   "cell_type": "code",
   "execution_count": 16,
   "metadata": {
    "ExecuteTime": {
     "end_time": "2024-12-12T23:39:36.964716Z",
     "start_time": "2024-12-12T23:39:36.956730Z"
    }
   },
   "outputs": [
    {
     "data": {
      "text/plain": [
       "((88061,), (88061, 6704))"
      ]
     },
     "execution_count": 16,
     "metadata": {},
     "output_type": "execute_result"
    }
   ],
   "source": [
    "X_train.shape,y_train.shape"
   ]
  },
  {
   "cell_type": "markdown",
   "metadata": {},
   "source": [
    "# Sử dụng mô hình học máy"
   ]
  },
  {
   "cell_type": "markdown",
   "metadata": {},
   "source": [
    "## Sử dụng SGDC"
   ]
  },
  {
   "cell_type": "code",
   "execution_count": 18,
   "metadata": {
    "ExecuteTime": {
     "end_time": "2024-12-13T00:23:00.307321Z",
     "start_time": "2024-12-12T23:39:49.836725Z"
    }
   },
   "outputs": [
    {
     "name": "stdout",
     "output_type": "stream",
     "text": [
      "Accuracy : 0.002350536535513541\n",
      "Macro f1 sample : 0.1706208501822783\n",
      "Macro f1 score : 0.08448656141383039\n",
      "Micro f1 score : 0.21409992921893523\n",
      "Hamming loss : 0.0014048614422494125\n"
     ]
    }
   ],
   "source": [
    "# pipeline\n",
    "clf_sgdc = Pipeline([(\"vectorizer\",\n",
    "                 TfidfVectorizer(max_features = 100000)),\n",
    "                (\"classifier\", OneVsRestClassifier(SGDClassifier()))])\n",
    "clf_sgdc.fit(X_train, y_train)\n",
    "y_pred_sgdc = clf_sgdc.predict(X_test)\n"
   ]
  },
  {
   "cell_type": "code",
   "execution_count": 30,
   "metadata": {
    "ExecuteTime": {
     "end_time": "2024-12-13T04:13:25.696046Z",
     "start_time": "2024-12-13T04:13:25.612093Z"
    }
   },
   "outputs": [
    {
     "name": "stdout",
     "output_type": "stream",
     "text": [
      "Accuracy: 0.002350536535513541\n",
      "F1 sample: 0.1706208501822783\n",
      "Macro f1: 0.08448656141383039\n",
      "Micro f1: 0.21409992921893523\n",
      "Hamming loss: 0.0014048614422494125\n"
     ]
    }
   ],
   "source": [
    "print(\"Accuracy:\",metrics.accuracy_score(y_test, y_pred_sgdc))\n",
    "print(\"F1 sample:\",metrics.f1_score(y_test, y_pred_sgdc, average = 'samples'))\n",
    "print(\"Macro f1:\",metrics.f1_score(y_test, y_pred_sgdc, average = 'macro'))\n",
    "print(\"Micro f1:\",metrics.f1_score(y_test, y_pred_sgdc, average = 'micro'))\n",
    "print(\"Hamming loss:\",metrics.hamming_loss(y_test,y_pred_sgdc))"
   ]
  },
  {
   "cell_type": "code",
   "execution_count": 20,
   "metadata": {
    "ExecuteTime": {
     "end_time": "2024-12-13T00:54:11.056468Z",
     "start_time": "2024-12-13T00:54:11.048487Z"
    }
   },
   "outputs": [],
   "source": [
    "def predict_and_save_tags(model, input_csv, output_tsv):\n",
    "\n",
    "    df_test = pd.read_csv(input_csv)\n",
    "    df_result = pd.read_csv(articles_testing_file_path, sep='\\t')\n",
    "\n",
    "    X_test = df_test['preprocessed_content']\n",
    "    y_pred_test = model.predict(X_test)\n",
    "    predicted_tags = multilabel_binarizer.inverse_transform(y_pred_test)\n",
    "    df_result['tags'] = [\n",
    "        \",\".join(tag.replace(\"_\", \" \") for tag in tags)\n",
    "        for tags in predicted_tags\n",
    "    ]\n",
    "\n",
    "    # Save the DataFrame to a TSV file\n",
    "    df_result.to_csv(output_tsv, sep='\\t', index=False)\n",
    "\n"
   ]
  },
  {
   "cell_type": "code",
   "execution_count": 21,
   "metadata": {
    "ExecuteTime": {
     "end_time": "2024-12-13T00:56:37.858251Z",
     "start_time": "2024-12-13T00:54:14.051680Z"
    }
   },
   "outputs": [],
   "source": [
    "predict_and_save_tags(clf_sgdc, test_preprocessed_file_path, 'clf_sgdc_result.tsv')"
   ]
  },
  {
   "cell_type": "code",
   "execution_count": 22,
   "metadata": {
    "ExecuteTime": {
     "end_time": "2024-12-13T00:58:40.372917Z",
     "start_time": "2024-12-13T00:57:52.602158Z"
    }
   },
   "outputs": [
    {
     "name": "stdout",
     "output_type": "stream",
     "text": [
      "Mô hình đã được lưu tại: model_result\\clf_sgdc.pkl\n"
     ]
    }
   ],
   "source": [
    "\n",
    "model_result_path = \"model_result\"\n",
    "file_name = \"clf_sgdc.pkl\"\n",
    "file_path = os.path.join(model_result_path, file_name)\n",
    "os.makedirs(model_result_path, exist_ok=True)\n",
    "with open(file_path, \"wb\") as file:\n",
    "    pickle.dump(clf_sgdc, file)\n",
    "print(f\"Mô hình đã được lưu tại: {file_path}\")"
   ]
  },
  {
   "cell_type": "code",
   "execution_count": 23,
   "metadata": {
    "ExecuteTime": {
     "end_time": "2024-12-13T02:25:33.335360Z",
     "start_time": "2024-12-13T00:59:51.502191Z"
    }
   },
   "outputs": [
    {
     "name": "stdout",
     "output_type": "stream",
     "text": [
      "Accuracy : 0.002452733776188043\n",
      "Macro f1 sample : 0.26700788656480173\n",
      "Macro f1 score : 0.1910027212507754\n",
      "Micro f1 score : 0.3340496730420901\n",
      "Hamming loss : 0.0013227103488730864\n"
     ]
    }
   ],
   "source": [
    "clf_lr = Pipeline([(\"vectorizer\", TfidfVectorizer(max_features = 100000)), (\"classifier\", OneVsRestClassifier(LogisticRegression(), n_jobs = 4))])\n",
    "clf_lr.fit(X_train, y_train)\n",
    "y_pred_lr = clf_lr.predict(X_test)\n",
    "\n"
   ]
  },
  {
   "cell_type": "code",
   "execution_count": 31,
   "metadata": {
    "ExecuteTime": {
     "end_time": "2024-12-13T04:14:06.848449Z",
     "start_time": "2024-12-13T04:14:06.762312Z"
    }
   },
   "outputs": [
    {
     "name": "stdout",
     "output_type": "stream",
     "text": [
      "Accuracy: 0.002452733776188043\n",
      "f1 sample: 0.26700788656480173\n",
      "Macro f1: 0.1910027212507754\n",
      "Micro f1: 0.3340496730420901\n",
      "Hamming loss: 0.0013227103488730864\n"
     ]
    }
   ],
   "source": [
    "print(\"Accuracy:\",metrics.accuracy_score(y_test, y_pred_lr))\n",
    "print(\"f1 sample:\",metrics.f1_score(y_test, y_pred_lr, average = 'samples'))\n",
    "print(\"Macro f1:\",metrics.f1_score(y_test, y_pred_lr, average = 'macro'))\n",
    "print(\"Micro f1:\",metrics.f1_score(y_test, y_pred_lr, average = 'micro'))\n",
    "print(\"Hamming loss:\",metrics.hamming_loss(y_test,y_pred_lr))"
   ]
  },
  {
   "cell_type": "code",
   "execution_count": 88,
   "metadata": {
    "ExecuteTime": {
     "end_time": "2024-12-11T22:18:24.146304Z",
     "start_time": "2024-12-11T22:18:02.106668Z"
    }
   },
   "outputs": [],
   "source": [
    "def predict_and_save_tags(model, input_csv, output_tsv):\n",
    "\n",
    "    df_test = pd.read_csv(input_csv)\n",
    "    df_result = pd.read_csv(articles_testing_file_path, sep='\\t')\n",
    "\n",
    "    X_test = df_test['preprocessed_content']\n",
    "    y_pred_test = model.predict(X_test)\n",
    "    predicted_tags = multilabel_binarizer.inverse_transform(y_pred_test)\n",
    "    df_result['tags'] = [\n",
    "        \",\".join(tag.replace(\"_\", \" \") for tag in tags)\n",
    "        for tags in predicted_tags\n",
    "    ]\n",
    "\n",
    "    # Save the DataFrame to a TSV file\n",
    "    df_result.to_csv(output_tsv, sep='\\t', index=False)\n",
    "\n"
   ]
  },
  {
   "cell_type": "code",
   "execution_count": 24,
   "metadata": {
    "ExecuteTime": {
     "end_time": "2024-12-13T02:41:07.849482Z",
     "start_time": "2024-12-13T02:37:57.624238Z"
    }
   },
   "outputs": [],
   "source": [
    "predict_and_save_tags(clf_lr, test_preprocessed_file_path, 'clf_lr_result.tsv')"
   ]
  },
  {
   "cell_type": "code",
   "execution_count": 25,
   "metadata": {
    "ExecuteTime": {
     "end_time": "2024-12-13T02:46:04.782412Z",
     "start_time": "2024-12-13T02:44:40.952112Z"
    }
   },
   "outputs": [
    {
     "name": "stdout",
     "output_type": "stream",
     "text": [
      "Mô hình đã được lưu tại: model_result\\clf_lr.pkl\n"
     ]
    }
   ],
   "source": [
    "\n",
    "model_result_path = \"model_result\"\n",
    "file_name = \"clf_lr.pkl\"\n",
    "file_path = os.path.join(model_result_path, file_name)\n",
    "os.makedirs(model_result_path, exist_ok=True)\n",
    "with open(file_path, \"wb\") as file:\n",
    "    pickle.dump(clf_lr, file)\n",
    "print(f\"Mô hình đã được lưu tại: {file_path}\")"
   ]
  }
 ],
 "metadata": {
  "kernelspec": {
   "display_name": "venv",
   "language": "python",
   "name": "python3"
  },
  "language_info": {
   "codemirror_mode": {
    "name": "ipython",
    "version": 3
   },
   "file_extension": ".py",
   "mimetype": "text/x-python",
   "name": "python",
   "nbconvert_exporter": "python",
   "pygments_lexer": "ipython3",
   "version": "3.9.6"
  }
 },
 "nbformat": 4,
 "nbformat_minor": 2
}
